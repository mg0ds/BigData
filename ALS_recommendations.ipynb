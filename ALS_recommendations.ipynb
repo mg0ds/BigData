{
 "cells": [
  {
   "cell_type": "code",
   "execution_count": 1,
   "id": "4f016701",
   "metadata": {},
   "outputs": [
    {
     "name": "stderr",
     "output_type": "stream",
     "text": [
      "WARNING: An illegal reflective access operation has occurred\n",
      "WARNING: Illegal reflective access by org.apache.spark.unsafe.Platform (file:/home/ubuntu/miniconda3/lib/python3.9/site-packages/pyspark/jars/spark-unsafe_2.12-3.1.2.jar) to constructor java.nio.DirectByteBuffer(long,int)\n",
      "WARNING: Please consider reporting this to the maintainers of org.apache.spark.unsafe.Platform\n",
      "WARNING: Use --illegal-access=warn to enable warnings of further illegal reflective access operations\n",
      "WARNING: All illegal access operations will be denied in a future release\n"
     ]
    },
    {
     "name": "stdout",
     "output_type": "stream",
     "text": [
      ":: loading settings :: url = jar:file:/home/ubuntu/miniconda3/lib/python3.9/site-packages/pyspark/jars/ivy-2.4.0.jar!/org/apache/ivy/core/settings/ivysettings.xml\n"
     ]
    },
    {
     "name": "stderr",
     "output_type": "stream",
     "text": [
      "Ivy Default Cache set to: /home/ubuntu/.ivy2/cache\n",
      "The jars for the packages stored in: /home/ubuntu/.ivy2/jars\n",
      "org.apache.hadoop#hadoop-aws added as a dependency\n",
      ":: resolving dependencies :: org.apache.spark#spark-submit-parent-ece4fc40-f1fe-44b7-aeb8-16c6699ca242;1.0\n",
      "\tconfs: [default]\n",
      "\tfound org.apache.hadoop#hadoop-aws;3.1.2 in central\n",
      "\tfound com.amazonaws#aws-java-sdk-bundle;1.11.271 in central\n",
      ":: resolution report :: resolve 398ms :: artifacts dl 11ms\n",
      "\t:: modules in use:\n",
      "\tcom.amazonaws#aws-java-sdk-bundle;1.11.271 from central in [default]\n",
      "\torg.apache.hadoop#hadoop-aws;3.1.2 from central in [default]\n",
      "\t---------------------------------------------------------------------\n",
      "\t|                  |            modules            ||   artifacts   |\n",
      "\t|       conf       | number| search|dwnlded|evicted|| number|dwnlded|\n",
      "\t---------------------------------------------------------------------\n",
      "\t|      default     |   2   |   0   |   0   |   0   ||   2   |   0   |\n",
      "\t---------------------------------------------------------------------\n",
      ":: retrieving :: org.apache.spark#spark-submit-parent-ece4fc40-f1fe-44b7-aeb8-16c6699ca242\n",
      "\tconfs: [default]\n",
      "\t0 artifacts copied, 2 already retrieved (0kB/13ms)\n",
      "22/01/28 12:42:22 WARN NativeCodeLoader: Unable to load native-hadoop library for your platform... using builtin-java classes where applicable\n",
      "Using Spark's default log4j profile: org/apache/spark/log4j-defaults.properties\n",
      "Setting default log level to \"WARN\".\n",
      "To adjust logging level use sc.setLogLevel(newLevel). For SparkR, use setLogLevel(newLevel).\n"
     ]
    },
    {
     "name": "stdout",
     "output_type": "stream",
     "text": [
      "s3a://moje-wiaderko/part-00000-f250440e-2fcc-4627-b102-98ebe8862d8c-c000.snappy.parquet\n"
     ]
    },
    {
     "name": "stderr",
     "output_type": "stream",
     "text": [
      "22/01/28 12:42:28 WARN MetricsConfig: Cannot locate configuration: tried hadoop-metrics2-s3a-file-system.properties,hadoop-metrics2.properties\n",
      "                                                                                \r"
     ]
    },
    {
     "name": "stdout",
     "output_type": "stream",
     "text": [
      "s3a://moje-wiaderko/part-00001-f250440e-2fcc-4627-b102-98ebe8862d8c-c000.snappy.parquet\n",
      "s3a://moje-wiaderko/part-00002-f250440e-2fcc-4627-b102-98ebe8862d8c-c000.snappy.parquet\n",
      "s3a://moje-wiaderko/part-00003-f250440e-2fcc-4627-b102-98ebe8862d8c-c000.snappy.parquet\n",
      "s3a://moje-wiaderko/part-00004-f250440e-2fcc-4627-b102-98ebe8862d8c-c000.snappy.parquet\n",
      "s3a://moje-wiaderko/part-00005-f250440e-2fcc-4627-b102-98ebe8862d8c-c000.snappy.parquet\n",
      "s3a://moje-wiaderko/part-00006-f250440e-2fcc-4627-b102-98ebe8862d8c-c000.snappy.parquet\n",
      "s3a://moje-wiaderko/part-00007-f250440e-2fcc-4627-b102-98ebe8862d8c-c000.snappy.parquet\n",
      "s3a://moje-wiaderko/part-00008-f250440e-2fcc-4627-b102-98ebe8862d8c-c000.snappy.parquet\n",
      "s3a://moje-wiaderko/part-00009-f250440e-2fcc-4627-b102-98ebe8862d8c-c000.snappy.parquet\n",
      "s3a://moje-wiaderko/part-00010-f250440e-2fcc-4627-b102-98ebe8862d8c-c000.snappy.parquet\n",
      "s3a://moje-wiaderko/part-00011-f250440e-2fcc-4627-b102-98ebe8862d8c-c000.snappy.parquet\n",
      "s3a://moje-wiaderko/part-00012-f250440e-2fcc-4627-b102-98ebe8862d8c-c000.snappy.parquet\n",
      "s3a://moje-wiaderko/part-00013-f250440e-2fcc-4627-b102-98ebe8862d8c-c000.snappy.parquet\n",
      "s3a://moje-wiaderko/part-00014-f250440e-2fcc-4627-b102-98ebe8862d8c-c000.snappy.parquet\n",
      "s3a://moje-wiaderko/part-00015-f250440e-2fcc-4627-b102-98ebe8862d8c-c000.snappy.parquet\n",
      "s3a://moje-wiaderko/part-00016-f250440e-2fcc-4627-b102-98ebe8862d8c-c000.snappy.parquet\n",
      "s3a://moje-wiaderko/part-00017-f250440e-2fcc-4627-b102-98ebe8862d8c-c000.snappy.parquet\n",
      "s3a://moje-wiaderko/part-00018-f250440e-2fcc-4627-b102-98ebe8862d8c-c000.snappy.parquet\n",
      "s3a://moje-wiaderko/part-00019-f250440e-2fcc-4627-b102-98ebe8862d8c-c000.snappy.parquet\n"
     ]
    }
   ],
   "source": [
    "import boto3, os\n",
    "import pyarrow.parquet as pq\n",
    "import pandas as pd\n",
    "import re\n",
    "import pyspark.sql.functions as f\n",
    "\n",
    "from pyspark import SparkConf\n",
    "from pyspark.sql import SparkSession\n",
    "from pyspark.sql import Row\n",
    "from pyspark.sql.types import ArrayType, StructField, StructType, StringType, IntegerType, FloatType, DoubleType, DateType, LongType\n",
    "from pyspark.sql.functions import explode\n",
    "from pyspark.sql.functions import col\n",
    "\n",
    "\n",
    "s3 = boto3.resource('s3')\n",
    "\n",
    "conf = SparkConf()\n",
    "conf.set('spark.jars.packages', 'org.apache.hadoop:hadoop-aws:3.1.2')\n",
    "conf.set('spark.hadoop.fs.s3a.aws.credentials.provider', 'org.apache.hadoop.fs.s3a.AnonymousAWSCredentialsProvider')   \n",
    "    \n",
    "spark = SparkSession.builder \\\n",
    "    .config(conf=conf) \\\n",
    "    .appName('DataFrame') \\\n",
    "    .master('local[*]') \\\n",
    "    .getOrCreate()\n",
    "\n",
    "#lista plikow parquet na s3\n",
    "\n",
    "loc = \"s3a://\"\n",
    "i = 0\n",
    "for obj in s3.Bucket(name='moje-wiaderko').objects.all():\n",
    "    if re.match(\".*\\.parquet\",obj.key):\n",
    "        plik = os.path.join(obj.bucket_name, obj.key)\n",
    "        print(loc+plik)\n",
    "        if i == 0:\n",
    "            data = spark.read.parquet(loc+plik)\n",
    "            i = 1\n",
    "        else:\n",
    "            data = data.union(spark.read.parquet(loc+plik))"
   ]
  },
  {
   "cell_type": "code",
   "execution_count": 2,
   "id": "5d0817e0",
   "metadata": {},
   "outputs": [
    {
     "name": "stderr",
     "output_type": "stream",
     "text": [
      "                                                                                \r"
     ]
    },
    {
     "data": {
      "text/plain": [
       "2899949"
      ]
     },
     "execution_count": 2,
     "metadata": {},
     "output_type": "execute_result"
    }
   ],
   "source": [
    "data.count()"
   ]
  },
  {
   "cell_type": "code",
   "execution_count": 3,
   "id": "3b401995",
   "metadata": {},
   "outputs": [
    {
     "name": "stderr",
     "output_type": "stream",
     "text": [
      "                                                                                \r"
     ]
    },
    {
     "name": "stdout",
     "output_type": "stream",
     "text": [
      "+--------------+------+\n",
      "|   profilename|userid|\n",
      "+--------------+------+\n",
      "| turboespresso|     0|\n",
      "|     annunz123|     1|\n",
      "|      MrWalker|     2|\n",
      "|     MrManning|     3|\n",
      "|          Roli|     4|\n",
      "|        macguy|     5|\n",
      "|     Unibonger|     6|\n",
      "|    Gachupines|     7|\n",
      "|         Edmoe|     8|\n",
      "| DCopperfields|     9|\n",
      "|      Pawola22|    10|\n",
      "|BrotherGrendel|    11|\n",
      "|      TechMyst|    12|\n",
      "|        Sammer|    13|\n",
      "|       reviled|    14|\n",
      "|       jseifer|    15|\n",
      "|       roner77|    16|\n",
      "|      veronika|    17|\n",
      "|      PapaMick|    18|\n",
      "|BrotherJoe1975|    19|\n",
      "+--------------+------+\n",
      "only showing top 20 rows\n",
      "\n",
      "CPU times: user 64.9 ms, sys: 23.4 ms, total: 88.3 ms\n",
      "Wall time: 17 s\n"
     ]
    }
   ],
   "source": [
    "%%time\n",
    "\n",
    "#tworzymy nowy df zeby dodac unikalny userID dla uzytkownikow\n",
    "\n",
    "#wybieramy tylko kolumne z uzytkownikami\n",
    "users = data.select(data.profilename).distinct()\n",
    "\n",
    "#zamieniamy na rdd zeby skorzystac z zipWithIndex()\n",
    "rdd_users = users.rdd.zipWithIndex()\n",
    "users = rdd_users.toDF()\n",
    "\n",
    "#odpakowanie kolumny\n",
    "users = users.withColumn('profilename', users['_1'].getItem(\"profilename\"))\n",
    "users = users.select(users.profilename, users._2.alias(\"userid\") )\n",
    "users.show()"
   ]
  },
  {
   "cell_type": "code",
   "execution_count": 4,
   "id": "4f531c4e",
   "metadata": {},
   "outputs": [
    {
     "name": "stderr",
     "output_type": "stream",
     "text": [
      "[Stage 41:=================================>                      (30 + 2) / 50]\r"
     ]
    },
    {
     "name": "stdout",
     "output_type": "stream",
     "text": [
      "+--------------------+--------+\n",
      "|               style|style_id|\n",
      "+--------------------+--------+\n",
      "|              Porter|       1|\n",
      "|       Baltic Porter|       2|\n",
      "|        Sak - Junmai|       3|\n",
      "|       Sak - Infused|       4|\n",
      "|         Belgian Ale|       5|\n",
      "|            Pilsener|       6|\n",
      "|           Irish Ale|       7|\n",
      "|   California Common|       8|\n",
      "| American Strong Ale|       9|\n",
      "|       Lambic - Faro|      10|\n",
      "|   American Pale Ale|      11|\n",
      "|     Lambic - Gueuze|      12|\n",
      "|Classic German Pi...|      13|\n",
      "|              Bitter|      14|\n",
      "|     Berliner Weisse|      15|\n",
      "|  Belgian Strong Ale|      16|\n",
      "|          Doppelbock|      17|\n",
      "|Imperial/Strong P...|      18|\n",
      "|            Mild Ale|      19|\n",
      "|         Sweet Stout|      20|\n",
      "+--------------------+--------+\n",
      "only showing top 20 rows\n",
      "\n",
      "CPU times: user 62.5 ms, sys: 15.3 ms, total: 77.8 ms\n",
      "Wall time: 11.7 s\n"
     ]
    },
    {
     "name": "stderr",
     "output_type": "stream",
     "text": [
      "                                                                                \r"
     ]
    }
   ],
   "source": [
    "%%time\n",
    "\n",
    "#tworzymy nowy df zeby dodac unikalny styleID dla stylu\n",
    "\n",
    "#wybieramy tylko kolumne z uzytkownikami\n",
    "styles = data.select(data.style).distinct()\n",
    "\n",
    "#zamieniamy na rdd zeby skorzystac z zipWithIndex()\n",
    "rdd_styles = styles.rdd.zipWithIndex()\n",
    "styles = rdd_styles.toDF()\n",
    "\n",
    "#odpakowanie kolumny\n",
    "styles = styles.withColumn('style', styles['_1'].getItem(\"style\"))\n",
    "styles = styles.select(styles.style, styles._2.alias(\"styleid\") )\n",
    "styles = styles.select('*', (styles.styleid+1).alias('style_id')).drop('styleid')\n",
    "styles.show()"
   ]
  },
  {
   "cell_type": "code",
   "execution_count": 13,
   "id": "6b77575e",
   "metadata": {},
   "outputs": [
    {
     "name": "stderr",
     "output_type": "stream",
     "text": [
      "[Stage 97:==============================================>       (174 + 2) / 200]\r"
     ]
    },
    {
     "name": "stdout",
     "output_type": "stream",
     "text": [
      "+------+-----------------+\n",
      "|beerid|beer_review_count|\n",
      "+------+-----------------+\n",
      "|  1267|             3696|\n",
      "|   734|             3662|\n",
      "| 10569|             3230|\n",
      "|   473|             3126|\n",
      "|   365|             3119|\n",
      "|   158|             3110|\n",
      "|    53|             3056|\n",
      "|   680|             2904|\n",
      "|  1315|             2872|\n",
      "|   835|             2813|\n",
      "|   132|             2812|\n",
      "|   399|             2787|\n",
      "|  2530|             2673|\n",
      "| 14709|             2670|\n",
      "|   589|             2668|\n",
      "|   742|             2653|\n",
      "|   139|             2632|\n",
      "|   422|             2632|\n",
      "|    37|             2624|\n",
      "|   370|             2586|\n",
      "+------+-----------------+\n",
      "only showing top 20 rows\n",
      "\n"
     ]
    },
    {
     "name": "stderr",
     "output_type": "stream",
     "text": [
      "                                                                                \r"
     ]
    }
   ],
   "source": [
    "# ilość recenzji każdego piwa\n",
    "\n",
    "beer_review_count = data.groupBy(data.beerid).agg(f.count(\"beer_name\").alias(\"beer_review_count\")).orderBy(f.desc('beer_review_count'))\n",
    "beer_review_count.show(20)"
   ]
  },
  {
   "cell_type": "code",
   "execution_count": 14,
   "id": "89b3bcc6",
   "metadata": {},
   "outputs": [
    {
     "name": "stdout",
     "output_type": "stream",
     "text": [
      "+--------+-------------+------+--------------------+--------------------+------------------+\n",
      "|reviewid|  profilename|beerid|           beer_name|               style|            rating|\n",
      "+--------+-------------+------+--------------------+--------------------+------------------+\n",
      "|      20|        vyvvy| 91592|Barley Island Bar...| Imperial/Double IPA|               3.0|\n",
      "|      40|        MI2CA| 77833|Barley Island Sin...|     Traditional Ale|               3.7|\n",
      "|      60|      emacgee| 77833|Barley Island Sin...|     Traditional Ale|               3.2|\n",
      "|      80|        thedm| 77833|Barley Island Sin...|     Traditional Ale|3.4000000000000004|\n",
      "|     100|       golubj| 77833|Barley Island Sin...|     Traditional Ale|3.4000000000000004|\n",
      "|     120|CaptainCougar| 58511|Barley Island Bar...|India Pale Ale (IPA)|              3.75|\n",
      "|     140|     3fourths| 58511|Barley Island Bar...|India Pale Ale (IPA)|              3.05|\n",
      "|     160|     Ughsmash| 58511|Barley Island Bar...|India Pale Ale (IPA)|2.9000000000000004|\n",
      "|     180|     Aurelius| 58511|Barley Island Bar...|India Pale Ale (IPA)|               3.7|\n",
      "|     200|      topherh| 58511|Barley Island Bar...|India Pale Ale (IPA)|3.6000000000000005|\n",
      "|     220|DrnkMcDermott| 58511|Barley Island Bar...|India Pale Ale (IPA)|              3.55|\n",
      "|     240|        Frank| 58511|Barley Island Bar...|India Pale Ale (IPA)|               3.0|\n",
      "|     260|angrypirate06| 58511|Barley Island Bar...|India Pale Ale (IPA)|              3.15|\n",
      "|     280|   johnnyoski| 58511|Barley Island Bar...|India Pale Ale (IPA)|               3.2|\n",
      "|     300|  muzzlehatch| 19690|Barley Island Dir...|           Brown Ale|               2.5|\n",
      "|     320|Dickinsonbeer| 19690|Barley Island Dir...|           Brown Ale|               3.0|\n",
      "|     340|     Dogbrick| 19690|Barley Island Dir...|           Brown Ale|               3.3|\n",
      "|     360| MapleCity219| 19690|Barley Island Dir...|           Brown Ale|               3.3|\n",
      "|     380|     deyholla| 19690|Barley Island Dir...|           Brown Ale|3.2499999999999996|\n",
      "|     400|jcwattsrugger| 19690|Barley Island Dir...|           Brown Ale|              3.15|\n",
      "+--------+-------------+------+--------------------+--------------------+------------------+\n",
      "only showing top 20 rows\n",
      "\n",
      "CPU times: user 4.31 ms, sys: 0 ns, total: 4.31 ms\n",
      "Wall time: 1.28 s\n"
     ]
    }
   ],
   "source": [
    "%%time\n",
    "\n",
    "#zmniejszamy ilosc kolumn zeby bylo bardziej czytelne\n",
    "#sumujemy oceny cząstkowe do jednej wartości \"rating\"\n",
    "data_s = data.select(data.reviewid, data.profilename, data.beerid, data.beer_name, data.style, \\\n",
    "                     (data.appearance+data.aroma+data.palate+data.taste+data.overall).alias(\"rating\"))\n",
    "data_s.show()"
   ]
  },
  {
   "cell_type": "code",
   "execution_count": 15,
   "id": "6e91c8a1",
   "metadata": {},
   "outputs": [
    {
     "name": "stderr",
     "output_type": "stream",
     "text": [
      "[Stage 106:==================================================>  (192 + 2) / 200]\r"
     ]
    },
    {
     "name": "stdout",
     "output_type": "stream",
     "text": [
      "+------+-----+------------+--------+----------------+------------------+------+--------+-----------------+\n",
      "|beerid|style| profilename|reviewid|       beer_name|            rating|userid|style_id|beer_review_count|\n",
      "+------+-----+------------+--------+----------------+------------------+------+--------+-----------------+\n",
      "|   148|Klsch|    bhensonb|  457830|Hollywood Blonde|              3.25|   140|      37|              136|\n",
      "|   148|Klsch|    bhensonb|  342795|Hollywood Blonde|              3.25|   140|      37|              136|\n",
      "|   148|Klsch|Skinnyviking|  342822|Hollywood Blonde|               2.3|   714|      37|              136|\n",
      "|   148|Klsch|Skinnyviking|  457857|Hollywood Blonde|               2.3|   714|      37|              136|\n",
      "|   148|Klsch|     DarkElf|  342842|Hollywood Blonde|              2.95|   983|      37|              136|\n",
      "|   148|Klsch|     DarkElf|  457877|Hollywood Blonde|              2.95|   983|      37|              136|\n",
      "|   148|Klsch|  LoveCaissa|  342820|Hollywood Blonde|               2.6|   998|      37|              136|\n",
      "|   148|Klsch|  LoveCaissa|  457855|Hollywood Blonde|               2.6|   998|      37|              136|\n",
      "|   148|Klsch|        saxo|  457863|Hollywood Blonde|2.1999999999999997|  1145|      37|              136|\n",
      "|   148|Klsch|        saxo|  342828|Hollywood Blonde|2.1999999999999997|  1145|      37|              136|\n",
      "|   148|Klsch|        Blom|  457823|Hollywood Blonde|              2.95|  1698|      37|              136|\n",
      "|   148|Klsch|        Blom|  342788|Hollywood Blonde|              2.95|  1698|      37|              136|\n",
      "|   148|Klsch|       TBone|  342840|Hollywood Blonde|               1.9|  1846|      37|              136|\n",
      "|   148|Klsch|       TBone|  457875|Hollywood Blonde|               1.9|  1846|      37|              136|\n",
      "|   148|Klsch|       akinm|  457886|Hollywood Blonde|              3.05|  2296|      37|              136|\n",
      "|   148|Klsch|       akinm|  342851|Hollywood Blonde|              3.05|  2296|      37|              136|\n",
      "|   148|Klsch|   awaisanen|  342801|Hollywood Blonde|2.8000000000000003|  2288|      37|              136|\n",
      "|   148|Klsch|   awaisanen|  457836|Hollywood Blonde|2.8000000000000003|  2288|      37|              136|\n",
      "|   148|Klsch|       mjg74|  457881|Hollywood Blonde|              3.05|  2460|      37|              136|\n",
      "|   148|Klsch|       mjg74|  342846|Hollywood Blonde|              3.05|  2460|      37|              136|\n",
      "+------+-----+------------+--------+----------------+------------------+------+--------+-----------------+\n",
      "only showing top 20 rows\n",
      "\n",
      "CPU times: user 156 ms, sys: 37.8 ms, total: 193 ms\n",
      "Wall time: 39 s\n"
     ]
    },
    {
     "name": "stderr",
     "output_type": "stream",
     "text": [
      "                                                                                \r"
     ]
    }
   ],
   "source": [
    "%%time\n",
    "\n",
    "#join tabel, dodajemy userid, style_id i beer_review_count\n",
    "\n",
    "data_short = data_s.join(users, on=[\"profilename\"], how=\"inner\")\n",
    "data_short = data_short.join(styles, on =['style'], how='left')\n",
    "data_short = data_short.join(beer_review_count, on=['beerid'], how='left')\n",
    "data_short.show()"
   ]
  },
  {
   "cell_type": "code",
   "execution_count": 16,
   "id": "f00f95dd",
   "metadata": {},
   "outputs": [
    {
     "name": "stderr",
     "output_type": "stream",
     "text": [
      "                                                                                \r"
     ]
    },
    {
     "data": {
      "text/plain": [
       "29174"
      ]
     },
     "execution_count": 16,
     "metadata": {},
     "output_type": "execute_result"
    }
   ],
   "source": [
    "# ilu jest użytkowników?\n",
    "\n",
    "users.count()"
   ]
  },
  {
   "cell_type": "code",
   "execution_count": 17,
   "id": "a1cf3f5c",
   "metadata": {},
   "outputs": [
    {
     "name": "stderr",
     "output_type": "stream",
     "text": [
      "[Stage 120:===============================================>     (178 + 2) / 200]\r"
     ]
    },
    {
     "name": "stdout",
     "output_type": "stream",
     "text": [
      "+------+------------+\n",
      "|userid|beerid_count|\n",
      "+------+------------+\n",
      "| 18621|       16236|\n",
      "| 16107|       15167|\n",
      "|  6272|       14052|\n",
      "|  7580|       13365|\n",
      "| 14974|        9933|\n",
      "|  2607|        9422|\n",
      "| 22461|        9349|\n",
      "| 11687|        8269|\n",
      "| 13031|        8225|\n",
      "|   134|        8171|\n",
      "| 18910|        8147|\n",
      "| 15848|        8034|\n",
      "| 12417|        7966|\n",
      "| 19341|        7581|\n",
      "| 27679|        7353|\n",
      "| 14194|        6650|\n",
      "| 16404|        6538|\n",
      "|   848|        6516|\n",
      "| 13730|        6487|\n",
      "| 12270|        6409|\n",
      "+------+------------+\n",
      "only showing top 20 rows\n",
      "\n"
     ]
    },
    {
     "name": "stderr",
     "output_type": "stream",
     "text": [
      "                                                                                \r"
     ]
    }
   ],
   "source": [
    "# segregujemy użytkowników według ilości recenzji\n",
    "\n",
    "data_beerid_count = data_short.groupBy(\"userid\").agg(f.count(\"beerid\").alias(\"beerid_count\")).orderBy(f.desc(\"beerid_count\"))\n",
    "data_beerid_count.show()"
   ]
  },
  {
   "cell_type": "code",
   "execution_count": 18,
   "id": "506bbc5d",
   "metadata": {},
   "outputs": [
    {
     "name": "stderr",
     "output_type": "stream",
     "text": [
      "[Stage 128:==============================================>      (177 + 2) / 200]\r"
     ]
    },
    {
     "name": "stdout",
     "output_type": "stream",
     "text": [
      "+------+------+-------------------+\n",
      "|userid|beerid|                r_i|\n",
      "+------+------+-------------------+\n",
      "|   140|   148|0.24050000000000002|\n",
      "|   140|   148|0.24050000000000002|\n",
      "|   714|   148|             0.1702|\n",
      "|   714|   148|             0.1702|\n",
      "|   983|   148|0.21830000000000002|\n",
      "|   983|   148|0.21830000000000002|\n",
      "|   998|   148|0.19240000000000002|\n",
      "|   998|   148|0.19240000000000002|\n",
      "|  1145|   148|0.16279999999999997|\n",
      "|  1145|   148|0.16279999999999997|\n",
      "|  1698|   148|0.21830000000000002|\n",
      "|  1698|   148|0.21830000000000002|\n",
      "|  1846|   148|             0.1406|\n",
      "|  1846|   148|             0.1406|\n",
      "|  2296|   148|             0.2257|\n",
      "|  2296|   148|             0.2257|\n",
      "|  2288|   148|0.20720000000000002|\n",
      "|  2288|   148|0.20720000000000002|\n",
      "|  2460|   148|             0.2257|\n",
      "|  2460|   148|             0.2257|\n",
      "+------+------+-------------------+\n",
      "only showing top 20 rows\n",
      "\n"
     ]
    },
    {
     "name": "stderr",
     "output_type": "stream",
     "text": [
      "                                                                                \r"
     ]
    }
   ],
   "source": [
    "# Dla sprawdzenia implicitPrefs musimy zamienić nasze oceny na wartości w przedziale od 0 do 1,\n",
    "# dodatkowo przemnożmy przez nuer stylu żeby wprowadzić go do oceny\n",
    "# (rating/5)*style_id/100\n",
    "\n",
    "#user_beer_rating = data_short.drop('profilename','beer_name','reviewid','style','count')\n",
    "user_beer_rating = data_short.select(data_short.userid, data_short.beerid,\n",
    "                                     ((data_short.rating/5)*data_short.style_id/100).alias(\"r_i\"))\n",
    "user_beer_rating.show()"
   ]
  },
  {
   "cell_type": "code",
   "execution_count": 19,
   "id": "0259a59b",
   "metadata": {},
   "outputs": [
    {
     "name": "stderr",
     "output_type": "stream",
     "text": [
      "[Stage 137:===================================================> (196 + 2) / 200]\r"
     ]
    },
    {
     "name": "stdout",
     "output_type": "stream",
     "text": [
      "+------+------+---+\n",
      "|userid|beerid|r_1|\n",
      "+------+------+---+\n",
      "|   140|   148|  1|\n",
      "|   140|   148|  1|\n",
      "|   714|   148| -1|\n",
      "|   714|   148| -1|\n",
      "|   983|   148| -1|\n",
      "|   983|   148| -1|\n",
      "|   998|   148| -1|\n",
      "|   998|   148| -1|\n",
      "|  1145|   148| -1|\n",
      "|  1145|   148| -1|\n",
      "|  1698|   148| -1|\n",
      "|  1698|   148| -1|\n",
      "|  1846|   148| -1|\n",
      "|  1846|   148| -1|\n",
      "|  2296|   148|  1|\n",
      "|  2296|   148|  1|\n",
      "|  2288|   148| -1|\n",
      "|  2288|   148| -1|\n",
      "|  2460|   148|  1|\n",
      "|  2460|   148|  1|\n",
      "+------+------+---+\n",
      "only showing top 20 rows\n",
      "\n"
     ]
    },
    {
     "name": "stderr",
     "output_type": "stream",
     "text": [
      "                                                                                \r"
     ]
    }
   ],
   "source": [
    "# implicitPrefs ale tym razem ratingi będą tylko przyjmować wartość -1 dla ocen mniejszych niz 3 \n",
    "# i 1 dla większych od 3\n",
    "\n",
    "user_beer_rating1 = data_short.select('userid', 'beerid', \"rating\", f.when(data_short.rating > 3, 1).\n",
    "                                     otherwise(-1).alias(\"r_1\")).drop(data_short.rating)\n",
    "user_beer_rating1.show()"
   ]
  },
  {
   "cell_type": "code",
   "execution_count": 20,
   "id": "5e13ae72",
   "metadata": {},
   "outputs": [
    {
     "name": "stderr",
     "output_type": "stream",
     "text": [
      "[Stage 146:==========================================>          (161 + 2) / 200]\r"
     ]
    },
    {
     "name": "stdout",
     "output_type": "stream",
     "text": [
      "+------+------+-----+\n",
      "|userid|beerid|  r_1|\n",
      "+------+------+-----+\n",
      "|   140|   148| 0.37|\n",
      "|   140|   148| 0.37|\n",
      "|   714|   148|-0.37|\n",
      "|   714|   148|-0.37|\n",
      "|   983|   148| 0.37|\n",
      "|   983|   148| 0.37|\n",
      "|   998|   148| 0.37|\n",
      "|   998|   148| 0.37|\n",
      "|  1145|   148|-0.37|\n",
      "|  1145|   148|-0.37|\n",
      "|  1698|   148| 0.37|\n",
      "|  1698|   148| 0.37|\n",
      "|  1846|   148|-0.37|\n",
      "|  1846|   148|-0.37|\n",
      "|  2296|   148| 0.37|\n",
      "|  2296|   148| 0.37|\n",
      "|  2288|   148| 0.37|\n",
      "|  2288|   148| 0.37|\n",
      "|  2460|   148| 0.37|\n",
      "|  2460|   148| 0.37|\n",
      "+------+------+-----+\n",
      "only showing top 20 rows\n",
      "\n"
     ]
    },
    {
     "name": "stderr",
     "output_type": "stream",
     "text": [
      "                                                                                \r"
     ]
    }
   ],
   "source": [
    "# implicitPrefs ale tym razem ratingi będą tylko przyjmować wartość -1 dla ocen mniejszych niz 2.5 \n",
    "# i 1 dla większych od 2.5, dodatkowo przemnożymy przez style_id/100\n",
    "\n",
    "user_beer_rating2 = data_short.select('userid', 'beerid', 'style_id', \"rating\", f.when(data_short.rating > 2.5, data_short.style_id/100).\n",
    "                                     otherwise(-1*data_short.style_id/100).alias(\"r_1\")).drop('rating', 'style_id')\n",
    "\n",
    "user_beer_rating2.show()"
   ]
  },
  {
   "cell_type": "code",
   "execution_count": 21,
   "id": "0a5df10d",
   "metadata": {},
   "outputs": [
    {
     "name": "stderr",
     "output_type": "stream",
     "text": [
      "[Stage 155:=================================================>   (186 + 2) / 200]\r"
     ]
    },
    {
     "name": "stdout",
     "output_type": "stream",
     "text": [
      "+------+------+--------------------+\n",
      "|userid|beerid|                 r_3|\n",
      "+------+------+--------------------+\n",
      "|   140|   148|-0.44288613555785006|\n",
      "|   140|   148|-0.44288613555785006|\n",
      "|   714|   148| -0.6539972466689612|\n",
      "|   714|   148| -0.6539972466689612|\n",
      "|   983|   148| -0.5095528022245166|\n",
      "|   983|   148| -0.5095528022245166|\n",
      "|   998|   148| -0.5873305800022944|\n",
      "|   998|   148| -0.5873305800022944|\n",
      "|  1145|   148| -0.6762194688911835|\n",
      "|  1145|   148| -0.6762194688911835|\n",
      "|  1698|   148| -0.5095528022245166|\n",
      "|  1698|   148| -0.5095528022245166|\n",
      "|  1846|   148|   -0.74288613555785|\n",
      "|  1846|   148|   -0.74288613555785|\n",
      "|  2296|   148| -0.4873305800022945|\n",
      "|  2296|   148| -0.4873305800022945|\n",
      "|  2288|   148| -0.5428861355578499|\n",
      "|  2288|   148| -0.5428861355578499|\n",
      "|  2460|   148| -0.4873305800022945|\n",
      "|  2460|   148| -0.4873305800022945|\n",
      "+------+------+--------------------+\n",
      "only showing top 20 rows\n",
      "\n"
     ]
    },
    {
     "name": "stderr",
     "output_type": "stream",
     "text": [
      "                                                                                \r"
     ]
    }
   ],
   "source": [
    "# implicitPrefs ale tym razem weźmiemy znormalizowane rating, style_id i beer_reviev_count \n",
    "\n",
    "user_beer_rating3 = data_short.select(data_short.userid, data_short.beerid, (((data_short['rating']-2.75)/4.5)+((data_short['style_id']-45)/88)+((data_short['beer_review_count']-1848.5)/3698)).alias(\"r_3\"))\n",
    "user_beer_rating3.show()"
   ]
  },
  {
   "cell_type": "code",
   "execution_count": 23,
   "id": "2abd9b6d",
   "metadata": {},
   "outputs": [],
   "source": [
    "#dzielimy dane na dwie czesci\n",
    "\n",
    "(training, test) = data_short.randomSplit([0.8, 0.2])"
   ]
  },
  {
   "cell_type": "code",
   "execution_count": 24,
   "id": "c3fc2d47",
   "metadata": {},
   "outputs": [
    {
     "name": "stdout",
     "output_type": "stream",
     "text": [
      "Ilość modeli do sprawdzania według param_grid:  1\n"
     ]
    },
    {
     "name": "stderr",
     "output_type": "stream",
     "text": [
      "22/01/28 13:17:59 WARN BLAS: Failed to load implementation from: com.github.fommil.netlib.NativeSystemBLAS\n",
      "22/01/28 13:17:59 WARN BLAS: Failed to load implementation from: com.github.fommil.netlib.NativeRefBLAS\n",
      "                                                                                \r"
     ]
    },
    {
     "name": "stdout",
     "output_type": "stream",
     "text": [
      "Rank= 10\n",
      "MaxIter= 10\n",
      "RegParm= 0.1\n"
     ]
    },
    {
     "name": "stderr",
     "output_type": "stream",
     "text": [
      "                                                                                \r"
     ]
    },
    {
     "name": "stdout",
     "output_type": "stream",
     "text": [
      "+------+-----+------------+--------+----------------+------------------+------+--------+-----------------+----------+\n",
      "|beerid|style| profilename|reviewid|       beer_name|            rating|userid|style_id|beer_review_count|prediction|\n",
      "+------+-----+------------+--------+----------------+------------------+------+--------+-----------------+----------+\n",
      "|   148|Klsch|    SledgeJr|  457828|Hollywood Blonde|               2.5|  3490|      37|              136| 2.6701343|\n",
      "|   148|Klsch|austinpowers|  342850|Hollywood Blonde|3.4499999999999997| 13734|      37|              136| 2.6767302|\n",
      "|   148|Klsch|    Dogbrick|  342796|Hollywood Blonde|              2.75| 10495|      37|              136|  2.751981|\n",
      "|   148|Klsch|    Dogbrick|  457831|Hollywood Blonde|              2.75| 10495|      37|              136|  2.751981|\n",
      "|   148|Klsch|        saxo|  342828|Hollywood Blonde|2.1999999999999997|  1145|      37|              136|   2.58084|\n",
      "|   148|Klsch|        saxo|  457863|Hollywood Blonde|2.1999999999999997|  1145|      37|              136|   2.58084|\n",
      "|   148|Klsch|      stouby|  342812|Hollywood Blonde|2.1500000000000004| 28709|      37|              136| 2.5727642|\n",
      "|   148|Klsch|  LoveCaissa|  457855|Hollywood Blonde|               2.6|   998|      37|              136| 2.7680175|\n",
      "|   148|Klsch|     BckDich|  457840|Hollywood Blonde|               2.6| 29029|      37|              136| 2.7238038|\n",
      "|   148|Klsch|     DarkElf|  342842|Hollywood Blonde|              2.95|   983|      37|              136| 2.6065373|\n",
      "+------+-----+------------+--------+----------------+------------------+------+--------+-----------------+----------+\n",
      "only showing top 10 rows\n",
      "\n"
     ]
    },
    {
     "name": "stderr",
     "output_type": "stream",
     "text": [
      "[Stage 745:====================================================>(198 + 2) / 200]\r"
     ]
    },
    {
     "name": "stdout",
     "output_type": "stream",
     "text": [
      "Root-mean-square error = 0.4525638401104922\n",
      "CPU times: user 2.69 s, sys: 705 ms, total: 3.39 s\n",
      "Wall time: 11min 7s\n"
     ]
    },
    {
     "name": "stderr",
     "output_type": "stream",
     "text": [
      "                                                                                \r"
     ]
    }
   ],
   "source": [
    "%%time\n",
    "\n",
    "#robimy cross validator ktory powinien sprawdzić które warunki będą najlepsze\n",
    "#jeżeli będzie działac, trzeba popracować\n",
    "\n",
    "from pyspark.ml.evaluation import RegressionEvaluator\n",
    "from pyspark.ml.recommendation import ALS\n",
    "from pyspark.ml.tuning import ParamGridBuilder, CrossValidator, TrainValidationSplit\n",
    "\n",
    "# właściwe oceny w tabeli\n",
    "als = ALS(implicitPrefs=False, userCol=\"userid\", itemCol=\"beerid\",\n",
    "          ratingCol=\"rating\", nonnegative = True, coldStartStrategy=\"drop\")\n",
    "\n",
    "# dane implicit\n",
    "# als = ALS(implicitPrefs=True, userCol=\"userid\", itemCol=\"beerid\",\n",
    "#           ratingCol=\"r_3\", nonnegative = False, coldStartStrategy=\"drop\")\n",
    "\n",
    "param_grid = ParamGridBuilder() \\\n",
    "            .addGrid(als.rank, [10]) \\\n",
    "            .addGrid(als.maxIter, [10]) \\\n",
    "            .addGrid(als.regParam, [.1]) \\\n",
    "            .build()\n",
    "\n",
    "# evaluator dla obliczenia RMSE\n",
    "# labelCol zmieniamy np. na r_3 jeżeli używamy implicit\n",
    "evaluator = RegressionEvaluator(metricName = \"rmse\", labelCol = \"rating\", predictionCol = \"prediction\")\n",
    "# ile modeli będzie testowanie?\n",
    "print (\"Ilość modeli do sprawdzania według param_grid: \", len(param_grid))\n",
    "\n",
    "# Corss Validator\n",
    "cv = CrossValidator(estimator = als, estimatorParamMaps = param_grid, evaluator = evaluator,\n",
    "                    numFolds = 3, parallelism = 3)\n",
    "model = cv.fit(training)\n",
    "\n",
    "# TrainValidationSplit działa podobnie do CrossValidator tylko że dzieli dane tylko raz, a CrossValidator\n",
    "# standardowo 3, lub więcej ustawiając odpowiednio numFolds=\n",
    "# tvs = TrainValidationSplit(estimator = als, estimatorParamMaps = param_grid, evaluator = evaluator, parallelism = 3)\n",
    "# model = tvs.fit(training)\n",
    "\n",
    "best_model = model.bestModel\n",
    "print(\"Rank= \" + str(best_model.rank))\n",
    "print(\"MaxIter= \" + str(best_model._java_obj.parent().getMaxIter()))\n",
    "print(\"RegParm= \" + str(best_model._java_obj.parent().getRegParam()))\n",
    "\n",
    "predictions = best_model.transform(test)\n",
    "predictions.show(n = 10)\n",
    "\n",
    "rmse = evaluator.evaluate(predictions)\n",
    "print(\"Root-mean-square error = \" + str(rmse))"
   ]
  },
  {
   "cell_type": "code",
   "execution_count": 25,
   "id": "ba6ca8b6",
   "metadata": {},
   "outputs": [],
   "source": [
    "#zapisywanie modelu\n",
    "\n",
    "# print(model.avgMetrics[0])\n",
    "# model_path = \"/home/ubuntu/environment/model\"\n",
    "# print(model_path)\n",
    "# best_model.write().save(model_path)\n",
    "\n",
    "#odczyt modelu\n",
    "#cvModelRead = CrossValidatorModel.read().load(model_path)"
   ]
  },
  {
   "cell_type": "code",
   "execution_count": 26,
   "id": "8d53e6ab",
   "metadata": {},
   "outputs": [
    {
     "name": "stderr",
     "output_type": "stream",
     "text": [
      "[Stage 779:====================================================>(198 + 2) / 200]\r"
     ]
    },
    {
     "name": "stdout",
     "output_type": "stream",
     "text": [
      "+------+------+---------+\n",
      "|userId|beerid|   rating|\n",
      "+------+------+---------+\n",
      "|   148|137480| 5.172485|\n",
      "|   148| 26230| 5.011108|\n",
      "|   148|137481| 4.915808|\n",
      "|   148|127221| 4.910299|\n",
      "|   148|120472|4.8892198|\n",
      "|   148| 13818|4.8716607|\n",
      "|   148|163190| 4.826746|\n",
      "|   148|  8485|4.8074527|\n",
      "|   148|132888|4.8008986|\n",
      "|   148|110739|4.7745523|\n",
      "|   463|137480| 5.019601|\n",
      "|   463| 26230| 4.965478|\n",
      "|   463|137481|4.7703347|\n",
      "|   463|127221|4.7567167|\n",
      "|   463| 13818|4.7178736|\n",
      "|   463|163190|4.6834674|\n",
      "|   463|  8485|4.6711993|\n",
      "|   463|132888| 4.648534|\n",
      "|   463|110739|4.6352158|\n",
      "|   463| 83760|4.5806475|\n",
      "+------+------+---------+\n",
      "\n",
      "CPU times: user 140 ms, sys: 30.3 ms, total: 170 ms\n",
      "Wall time: 3min 11s\n"
     ]
    },
    {
     "name": "stderr",
     "output_type": "stream",
     "text": [
      "                                                                                \r"
     ]
    }
   ],
   "source": [
    "%%time\n",
    "\n",
    "\n",
    "# tworzymy n rekomendacji dla każdego użytkownika\n",
    "ALS_recommendationsForAllUsers = best_model.recommendForAllUsers(numItems = 10) # n — 10\n",
    "\n",
    "#odpakowanie kolumny i przypisanie pojedyńczej rekomendacji na wiersz\n",
    "\n",
    "nrecommendations = ALS_recommendationsForAllUsers.withColumn(\"rec_exp\", explode(\"recommendations\")).select('userId', col(\"rec_exp.beerid\"), col(\"rec_exp.rating\"))\n",
    "nrecommendations.limit(20).show()"
   ]
  },
  {
   "cell_type": "code",
   "execution_count": 27,
   "id": "6311b1a5",
   "metadata": {},
   "outputs": [
    {
     "name": "stderr",
     "output_type": "stream",
     "text": [
      "[Stage 814:===================================================> (194 + 2) / 200]\r"
     ]
    },
    {
     "name": "stdout",
     "output_type": "stream",
     "text": [
      "+------+-------------+\n",
      "|beerid|count(userid)|\n",
      "+------+-------------+\n",
      "|137480|        24544|\n",
      "| 26230|        23694|\n",
      "|137481|        22256|\n",
      "|127221|        20965|\n",
      "| 13818|        20393|\n",
      "|  8485|        19433|\n",
      "|163190|        19365|\n",
      "|120472|        19148|\n",
      "|132888|        16266|\n",
      "|110739|        15600|\n",
      "|158827|         7268|\n",
      "| 78762|         5266|\n",
      "| 86102|         3240|\n",
      "| 83760|         3092|\n",
      "| 67957|         2539|\n",
      "|116588|         2254|\n",
      "| 41065|         2219|\n",
      "| 88202|         1674|\n",
      "| 54852|         1567|\n",
      "|  1225|         1414|\n",
      "+------+-------------+\n",
      "only showing top 20 rows\n",
      "\n"
     ]
    },
    {
     "name": "stderr",
     "output_type": "stream",
     "text": [
      "                                                                                \r"
     ]
    }
   ],
   "source": [
    "# sprawdzamy jakie piwo ile razy zostało polecone\n",
    "nrecommendations.groupBy(\"beerid\").agg(f.count(\"userid\")).sort('count(userid)', ascending=False).show()"
   ]
  },
  {
   "cell_type": "code",
   "execution_count": 28,
   "id": "b81a594e",
   "metadata": {},
   "outputs": [
    {
     "name": "stderr",
     "output_type": "stream",
     "text": [
      "[Stage 824:==============================================>      (176 + 2) / 200]\r"
     ]
    },
    {
     "name": "stdout",
     "output_type": "stream",
     "text": [
      "+------+------------+\n",
      "|userid|beerid_count|\n",
      "+------+------------+\n",
      "| 19917|          34|\n",
      "| 22618|          34|\n",
      "|  8902|          34|\n",
      "| 27863|          34|\n",
      "|  3108|          34|\n",
      "|  2925|          34|\n",
      "|  1729|          34|\n",
      "|  2924|          34|\n",
      "| 27715|          34|\n",
      "| 10104|          34|\n",
      "|  1010|          34|\n",
      "| 18681|          34|\n",
      "|  8586|          34|\n",
      "|  5075|          34|\n",
      "|  5778|          34|\n",
      "|  5918|          34|\n",
      "| 21150|          34|\n",
      "| 27276|          34|\n",
      "|  9972|          34|\n",
      "|  7010|          34|\n",
      "+------+------------+\n",
      "only showing top 20 rows\n",
      "\n"
     ]
    },
    {
     "name": "stderr",
     "output_type": "stream",
     "text": [
      "                                                                                \r"
     ]
    }
   ],
   "source": [
    "# segregujemy użytkowników według ilości recenzji i filtrujemy\n",
    "\n",
    "data_beerid_count = data_short.groupBy(\"userid\").agg(f.count(\"beerid\").alias(\"beerid_count\")).orderBy(f.desc(\"beerid_count\"))\n",
    "data_beerid_count.filter(data_beerid_count.beerid_count > 20).filter(data_beerid_count.beerid_count < 35).show()"
   ]
  },
  {
   "cell_type": "code",
   "execution_count": 29,
   "id": "b19a079c",
   "metadata": {},
   "outputs": [],
   "source": [
    "#czy to ma sens? sprawdzamy rekomendacje dla konkrtetnego uzytkownika\n",
    "data_spr = data.select(data.beerid, data.beer_name, data.style)\n",
    "recommend_data = nrecommendations.join(data_spr, on='beerid')\n"
   ]
  },
  {
   "cell_type": "code",
   "execution_count": 36,
   "id": "6e55f10a",
   "metadata": {},
   "outputs": [
    {
     "name": "stderr",
     "output_type": "stream",
     "text": [
      "[Stage 961:=================================================>   (187 + 2) / 200]\r"
     ]
    },
    {
     "name": "stdout",
     "output_type": "stream",
     "text": [
      "+------+------+---------+--------------------+-------------------+\n",
      "|beerid|userId|   rating|           beer_name|              style|\n",
      "+------+------+---------+--------------------+-------------------+\n",
      "|163190|  6334|  5.86417|Austin Beerworks ...|     Imperial Stout|\n",
      "|137480|  6334| 5.416985|Saint Boniface Li...|Imperial/Double IPA|\n",
      "| 80513|  6334|5.2034893|      Birra di Capri|        Belgian Ale|\n",
      "| 26230|  6334|5.6114264|Wildbru Dunkle We...|       Dunkelweizen|\n",
      "|116588|  6334| 5.299364|Wildfire Pirates ...|              Cider|\n",
      "| 83760|  6334|5.2477856|Kamikokoro Toukag...|      Sak - Namasak|\n",
      "|158827|  6334| 5.402828|Draught House Orf...|          Amber Ale|\n",
      "|120472|  6334| 5.337894|Poutnk Pelhrimov ...|  Bohemian Pilsener|\n",
      "| 28648|  6334|5.1919584|Nihonkai (Sea of ...|        Sak - Koshu|\n",
      "|  8485|  6334| 5.214427|       Edsten Triple|       Abbey Tripel|\n",
      "+------+------+---------+--------------------+-------------------+\n",
      "\n"
     ]
    },
    {
     "name": "stderr",
     "output_type": "stream",
     "text": [
      "                                                                                \r"
     ]
    }
   ],
   "source": [
    "# rekomendacje dla konkretnego użytkownika\n",
    "# uzytkownicy do sprawdzenia 1196, 6334, 234, 1010\n",
    "\n",
    "recommend_data.filter('userid = 6334').distinct().limit(20).show()"
   ]
  },
  {
   "cell_type": "code",
   "execution_count": 37,
   "id": "4ac9db9f",
   "metadata": {},
   "outputs": [
    {
     "name": "stderr",
     "output_type": "stream",
     "text": [
      "[Stage 971:=============================================>       (173 + 2) / 200]\r"
     ]
    },
    {
     "name": "stdout",
     "output_type": "stream",
     "text": [
      "+------+--------------------+--------------------+------------------+\n",
      "|beerid|               style|           beer_name|            rating|\n",
      "+------+--------------------+--------------------+------------------+\n",
      "|  2228|Belgian White (Wi...|Blue Moon Belgian...|              4.75|\n",
      "|  4456|           Dry Stout|Guinness Extra St...|              3.85|\n",
      "|   365|   American Pale Ale|Sierra Nevada Pal...|3.8000000000000003|\n",
      "|  1267|           Dry Stout|    Guinness Draught|               3.2|\n",
      "|   483| American Dark Lager|  Michelob AmberBock|              2.95|\n",
      "+------+--------------------+--------------------+------------------+\n",
      "\n"
     ]
    },
    {
     "name": "stderr",
     "output_type": "stream",
     "text": [
      "                                                                                \r"
     ]
    }
   ],
   "source": [
    "#sprawdzamy co w rzeczywistosci ocenial ten uzytkownik\n",
    "# uzytkownicy do sprawdzenia 1196, 6334, 234, 1010\n",
    "\n",
    "aaa = data_short.select('beerid', 'style', 'beer_name', 'rating')\n",
    "aaa.filter('userid = 6334').sort('rating', ascending=False).limit(20).show()"
   ]
  },
  {
   "cell_type": "code",
   "execution_count": 32,
   "id": "f4cb1215",
   "metadata": {},
   "outputs": [],
   "source": [
    "# zapisanie do csv naszych rekomendacji\n",
    "\n",
    "# nrecommendations.write.csv(\"10recomendations.csv\")"
   ]
  },
  {
   "cell_type": "code",
   "execution_count": null,
   "id": "30c22a3a",
   "metadata": {},
   "outputs": [],
   "source": []
  },
  {
   "cell_type": "code",
   "execution_count": null,
   "id": "4a1789f6",
   "metadata": {},
   "outputs": [],
   "source": []
  }
 ],
 "metadata": {
  "kernelspec": {
   "display_name": "Python 3 (ipykernel)",
   "language": "python",
   "name": "python3"
  },
  "language_info": {
   "codemirror_mode": {
    "name": "ipython",
    "version": 3
   },
   "file_extension": ".py",
   "mimetype": "text/x-python",
   "name": "python",
   "nbconvert_exporter": "python",
   "pygments_lexer": "ipython3",
   "version": "3.9.5"
  }
 },
 "nbformat": 4,
 "nbformat_minor": 5
}
